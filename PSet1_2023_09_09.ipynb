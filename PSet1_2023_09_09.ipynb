{
  "nbformat": 4,
  "nbformat_minor": 0,
  "metadata": {
    "colab": {
      "provenance": [],
      "authorship_tag": "ABX9TyPyyhrbKZRQ44Oa3Uk+pQYp",
      "include_colab_link": true
    },
    "kernelspec": {
      "name": "python3",
      "display_name": "Python 3"
    },
    "language_info": {
      "name": "python"
    }
  },
  "cells": [
    {
      "cell_type": "markdown",
      "metadata": {
        "id": "view-in-github",
        "colab_type": "text"
      },
      "source": [
        "<a href=\"https://colab.research.google.com/github/VUDataSci/intr-to-data-structures-jandresgannon/blob/main/PSet1_2023_09_09.ipynb\" target=\"_parent\"><img src=\"https://colab.research.google.com/assets/colab-badge.svg\" alt=\"Open In Colab\"/></a>"
      ]
    },
    {
      "cell_type": "markdown",
      "source": [
        "Problem set 1: Data importing and cleaning\n",
        "\n",
        "Due: 11:59pm on Friday, September 8 by uploading to github\n",
        "\n",
        "Your name:\n",
        "\n",
        "1. Data importing: \"data_finance.csv\" contains a dataset with information about sales transactions. Write the appropriate code for each of the tasks below. This section should be completed without generative AI, but with open access to static online resources like course material, stackoverflow, blogs with sample code, etc."
      ],
      "metadata": {
        "id": "X4KAg1qwWLst"
      }
    },
    {
      "cell_type": "code",
      "source": [
        "# Load the pandas library\n",
        "\n",
        "# Import the CSV file 'data_finance.csv' into a DataFrame\n",
        "\n",
        "# Display the column names\n",
        "\n",
        "# Identify the data types of each column\n",
        "\n",
        "# Display the first 5 rows of the DataFrame\n",
        "\n",
        "# Display the last 5 rows of the DataFrame\n",
        "\n",
        "# Display a random sample of 5 rows\n",
        "\n",
        "# Calculate the total number of rows and columns in the DataFrame\n",
        "\n",
        "# Display summary statistics for the quantity and price columns\n"
      ],
      "metadata": {
        "id": "VNactcgqW8by"
      },
      "execution_count": null,
      "outputs": []
    },
    {
      "cell_type": "markdown",
      "source": [
        "2. Generative AI comparison. Use a reliable generative AI like ChatGPT, Claude, Bing, Jupyter AI, etc. to answer the same questions as Section 1. You should alter the prompt given to the AI to maximize the accuracy and efficiency of its output. Paste both your prompt and the generative AI's output below."
      ],
      "metadata": {
        "id": "k3x3SBG_blf2"
      }
    },
    {
      "cell_type": "code",
      "source": [
        "# Prompt\n",
        "\n",
        "# AI generated code\n"
      ],
      "metadata": {
        "id": "nxpB15SMbnmI"
      },
      "execution_count": null,
      "outputs": []
    },
    {
      "cell_type": "markdown",
      "source": [
        "3. Data cleaning: \"data_students.tsv\" contains a dataset with information about students. Write the appropriate code for each of the tasks below. This section should be completed without generative AI, but with open access to static online resources like course material, stackoverflow, blogs with sample code, etc."
      ],
      "metadata": {
        "id": "PZiy5JolYBnB"
      }
    },
    {
      "cell_type": "code",
      "source": [
        "\n",
        "# Import \"data_students.tsv\" into a dataframe\n",
        "\n",
        "# Rename the columns to improve machine and human-readability\n",
        "\n",
        "# Display the number of missing values in each column\n",
        "\n",
        "# Create a new column identifying whether the age column is missing\n",
        "\n",
        "# Replace missing values in the 'age' column with the mean age\n",
        "\n",
        "# Convert the 'gender' column to lowercase\n",
        "\n",
        "# Split the location column into separate columns for city and state\n",
        "\n",
        "# Save the cleaned data to a new CSV file with an appropriate name\n"
      ],
      "metadata": {
        "id": "FW5woMoyYNd9"
      },
      "execution_count": null,
      "outputs": []
    },
    {
      "cell_type": "markdown",
      "source": [
        "4. Generative AI comparison. Use a reliable generative AI like ChatGPT, Claude, Bing, Jupyter AI, etc. to answer the same questions as Section 3. You should alter the prompt given to the AI to maximize the accuracy and efficiency of its output. Paste both your prompt and the generative AI's output below."
      ],
      "metadata": {
        "id": "lcCTq1i-bzGI"
      }
    },
    {
      "cell_type": "markdown",
      "source": [
        "5. Generative AI evaluation. Compare the code you produced using static sources to that produced by the generative AI. Write 2-3 paragraphs evaluating the strengths and weaknesses of both approaches. In doing so, you should answer the following questions:\n",
        "* Having now seen the code produced by Generative AI, how would you have written your code differently?\n",
        "* Where does Generative AI excel, and where did it fall short?\n",
        "* What was important in writing your prompt?"
      ],
      "metadata": {
        "id": "5rFyq2Oyb2dR"
      }
    }
  ]
}